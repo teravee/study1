{
  "cells": [
    {
      "cell_type": "code",
      "execution_count": 2,
      "id": "ebb537e6",
      "metadata": {},
      "outputs": [
        {
          "name": "stdout",
          "output_type": "stream",
          "text": [
            "Notebook cleaned.\n"
          ]
        }
      ],
      "source": [
        "import IPython\n",
        "import sys\n",
        "\n",
        "def clean_notebook():\n",
        "    IPython.display.clear_output(wait=True)\n",
        "    print(\"Notebook cleaned.\")\n",
        "\n",
        "!pip install openai\n",
        "!pip install gradio\n",
        "\n",
        "# Clean up the notebook\n",
        "clean_notebook()"
      ]
    },
    {
      "cell_type": "code",
      "execution_count": 30,
      "id": "af52591f",
      "metadata": {},
      "outputs": [],
      "source": [
        "%%writefile .env\n",
        "OPENAI_API_KEY=your_api_key_here\n",
        "OPENTYPHOON_API_KEY=api_key_here"
      ]
    },
    {
      "cell_type": "code",
      "execution_count": 3,
      "id": "6ef5cda5",
      "metadata": {},
      "outputs": [
        {
          "data": {
            "text/plain": [
              "True"
            ]
          },
          "execution_count": 3,
          "metadata": {},
          "output_type": "execute_result"
        }
      ],
      "source": [
        "import os\n",
        "from openai import OpenAI\n",
        "from dotenv import load_dotenv\n",
        "\n",
        "# Load environment variables\n",
        "load_dotenv()"
      ]
    },
    {
      "cell_type": "code",
      "execution_count": 4,
      "id": "b2600d04",
      "metadata": {},
      "outputs": [],
      "source": [
        "import os\n",
        "from openai import OpenAI\n",
        "\n",
        "#openai_client = OpenAI(api_key=os.getenv(\"OPENAI_API_KEY\"))\n",
        "#model_name = \"gpt-3.5-turbo\"    \n",
        "\n",
        "openai_client = OpenAI(api_key=os.environ.get(\"OPENTYPHOON_API_KEY\"),base_url=\"https://api.opentyphoon.ai/v1\")\n",
        "model_name = \"typhoon-v1.5x-70b-instruct\"\n"
      ]
    },
    {
      "cell_type": "code",
      "execution_count": 5,
      "id": "3c3a2bf8",
      "metadata": {},
      "outputs": [],
      "source": [
        "import openai\n",
        "\n",
        "\n",
        "# Let's start using FUNCTIONS to simplify our API usage\n",
        "def complete(user_prompt, system_prompt):\n",
        "    completion = openai_client.chat.completions.create(\n",
        "        model=model_name,\n",
        "        messages=[\n",
        "            {\"role\": \"system\", \"content\": \"you are a helpful assistant.\"},\n",
        "            {\"role\": \"user\", \"content\": user_prompt},\n",
        "        ],\n",
        "        temperature=0,\n",
        "        max_tokens=500,\n",
        "    )\n",
        "    return completion"
      ]
    },
    {
      "cell_type": "code",
      "execution_count": 26,
      "id": "8a7d1fc4",
      "metadata": {},
      "outputs": [],
      "source": [
        "stemcells = \"\"\"What are stem cells?\n",
        "\n",
        "Stem cells are the body's raw materials — cells \\\n",
        "from which all other cells with specialized functions \\\n",
        "are generated. Under the right conditions in the body \\\n",
        "or a laboratory, stem cells divide to form more cells \\\n",
        "called daughter cells.\n",
        "\n",
        "These daughter cells become either new stem cells or \\\n",
        "specialized cells (differentiation) with a more specific \\\n",
        "function, such as blood cells, brain cells, heart muscle \\\n",
        "cells or bone cells. No other cell in the body has the \\\n",
        "natural ability to generate new cell types.\n",
        "\n",
        "Why is there such an interest in stem cells?\n",
        "Researchers hope stem cell studies can help to:\n",
        "\n",
        "Increase understanding of how diseases occur. By watching \\\n",
        "stem cells mature into cells in bones, heart muscle, nerves, \\\n",
        "and other organs and tissue, researchers may better \\\n",
        "understand how diseases and conditions develop.\n",
        "Generate healthy cells to replace cells affected by disease \\\n",
        "(regenerative medicine). Stem cells can be guided into \\\n",
        "becoming specific cells that can be used in people to \\\n",
        "regenerate and repair tissues that have been damaged or \\\n",
        "affected by disease.\n",
        "\n",
        "People who might benefit from stem cell therapies include \\\n",
        "those with spinal cord injuries, type 1 diabetes, Parkinson's \\\n",
        "disease, amyotrophic lateral sclerosis, Alzheimer's disease, \\\n",
        "heart disease, stroke, burns, cancer and osteoarthritis.\n",
        "\n",
        "Stem cells may have the potential to be grown to become new \\\n",
        "tissue for use in transplant and regenerative medicine. \\\n",
        "Researchers continue to advance the knowledge on stem cells \\\n",
        "and their applications in transplant and regenerative medicine.\n",
        "\n",
        "Test new drugs for safety and effectiveness. Before using \\\n",
        "investigational drugs in people, researchers can use some \\\n",
        "types of stem cells to test the drugs for safety and quality. \\\n",
        "This type of testing will most likely first have a direct \\\n",
        "impact on drug development for cardiac toxicity testing.\n",
        "\n",
        "New areas of study include the effectiveness of using human \\\n",
        "stem cells that have been programmed into tissue-specific \\\n",
        "cells to test new drugs. For the testing of new drugs to \\\n",
        "be accurate, the cells must be programmed to acquire \\\n",
        "properties of the type of cells targeted by the drug. \\\n",
        "Techniques to program cells into specific cells are under study.\n",
        "\n",
        "For instance, nerve cells could be generated to test a \\\n",
        "new drug for a nerve disease. Tests could show whether \\\n",
        "the new drug had any effect on the cells and whether the \\\n",
        "cells were harmed.\n",
        "\"\"\""
      ]
    },
    {
      "cell_type": "markdown",
      "id": "248ee0a5",
      "metadata": {},
      "source": [
        "# Example 1"
      ]
    },
    {
      "cell_type": "code",
      "execution_count": 27,
      "id": "ad3b8f3f",
      "metadata": {},
      "outputs": [],
      "source": [
        "prompt = f\"\"\"Please summarize the following article:\n",
        "\n",
        "```\n",
        "{stemcells}\n",
        "```\n",
        "\"\"\""
      ]
    },
    {
      "cell_type": "code",
      "execution_count": 28,
      "id": "64afdc93",
      "metadata": {},
      "outputs": [
        {
          "data": {
            "text/plain": [
              "\"Please summarize the following article:\\n\\n```\\nWhat are stem cells?\\n\\nStem cells are the body's raw materials — cells from which all other cells with specialized functions are generated. Under the right conditions in the body or a laboratory, stem cells divide to form more cells called daughter cells.\\n\\nThese daughter cells become either new stem cells or specialized cells (differentiation) with a more specific function, such as blood cells, brain cells, heart muscle cells or bone cells. No other cell in the body has the natural ability to generate new cell types.\\n\\nWhy is there such an interest in stem cells?\\nResearchers hope stem cell studies can help to:\\n\\nIncrease understanding of how diseases occur. By watching stem cells mature into cells in bones, heart muscle, nerves, and other organs and tissue, researchers may better understand how diseases and conditions develop.\\nGenerate healthy cells to replace cells affected by disease (regenerative medicine). Stem cells can be guided into becoming specific cells that can be used in people to regenerate and repair tissues that have been damaged or affected by disease.\\n\\nPeople who might benefit from stem cell therapies include those with spinal cord injuries, type 1 diabetes, Parkinson's disease, amyotrophic lateral sclerosis, Alzheimer's disease, heart disease, stroke, burns, cancer and osteoarthritis.\\n\\nStem cells may have the potential to be grown to become new tissue for use in transplant and regenerative medicine. Researchers continue to advance the knowledge on stem cells and their applications in transplant and regenerative medicine.\\n\\nTest new drugs for safety and effectiveness. Before using investigational drugs in people, researchers can use some types of stem cells to test the drugs for safety and quality. This type of testing will most likely first have a direct impact on drug development for cardiac toxicity testing.\\n\\nNew areas of study include the effectiveness of using human stem cells that have been programmed into tissue-specific cells to test new drugs. For the testing of new drugs to be accurate, the cells must be programmed to acquire properties of the type of cells targeted by the drug. Techniques to program cells into specific cells are under study.\\n\\nFor instance, nerve cells could be generated to test a new drug for a nerve disease. Tests could show whether the new drug had any effect on the cells and whether the cells were harmed.\\n\\n```\\n\""
            ]
          },
          "execution_count": 28,
          "metadata": {},
          "output_type": "execute_result"
        }
      ],
      "source": [
        "prompt "
      ]
    },
    {
      "cell_type": "code",
      "execution_count": 29,
      "id": "8416b8e7",
      "metadata": {},
      "outputs": [
        {
          "data": {
            "text/markdown": [
              "Please summarize the following article:\n",
              "\n",
              "```\n",
              "What are stem cells?\n",
              "\n",
              "Stem cells are the body's raw materials — cells from which all other cells with specialized functions are generated. Under the right conditions in the body or a laboratory, stem cells divide to form more cells called daughter cells.\n",
              "\n",
              "These daughter cells become either new stem cells or specialized cells (differentiation) with a more specific function, such as blood cells, brain cells, heart muscle cells or bone cells. No other cell in the body has the natural ability to generate new cell types.\n",
              "\n",
              "Why is there such an interest in stem cells?\n",
              "Researchers hope stem cell studies can help to:\n",
              "\n",
              "Increase understanding of how diseases occur. By watching stem cells mature into cells in bones, heart muscle, nerves, and other organs and tissue, researchers may better understand how diseases and conditions develop.\n",
              "Generate healthy cells to replace cells affected by disease (regenerative medicine). Stem cells can be guided into becoming specific cells that can be used in people to regenerate and repair tissues that have been damaged or affected by disease.\n",
              "\n",
              "People who might benefit from stem cell therapies include those with spinal cord injuries, type 1 diabetes, Parkinson's disease, amyotrophic lateral sclerosis, Alzheimer's disease, heart disease, stroke, burns, cancer and osteoarthritis.\n",
              "\n",
              "Stem cells may have the potential to be grown to become new tissue for use in transplant and regenerative medicine. Researchers continue to advance the knowledge on stem cells and their applications in transplant and regenerative medicine.\n",
              "\n",
              "Test new drugs for safety and effectiveness. Before using investigational drugs in people, researchers can use some types of stem cells to test the drugs for safety and quality. This type of testing will most likely first have a direct impact on drug development for cardiac toxicity testing.\n",
              "\n",
              "New areas of study include the effectiveness of using human stem cells that have been programmed into tissue-specific cells to test new drugs. For the testing of new drugs to be accurate, the cells must be programmed to acquire properties of the type of cells targeted by the drug. Techniques to program cells into specific cells are under study.\n",
              "\n",
              "For instance, nerve cells could be generated to test a new drug for a nerve disease. Tests could show whether the new drug had any effect on the cells and whether the cells were harmed.\n",
              "\n",
              "```\n"
            ],
            "text/plain": [
              "<IPython.core.display.Markdown object>"
            ]
          },
          "execution_count": 29,
          "metadata": {},
          "output_type": "execute_result"
        }
      ],
      "source": [
        "# pretty format the response\n",
        "IPython.display.Markdown(prompt )"
      ]
    },
    {
      "cell_type": "code",
      "execution_count": 31,
      "id": "f9aba9cb",
      "metadata": {},
      "outputs": [
        {
          "data": {
            "text/markdown": [
              "The article discusses stem cells, which are the body's basic building blocks that can develop into various specialized cells. They have the unique ability to divide and create more stem cells or differentiated cells with specific functions. The interest in stem cells lies in their potential to help researchers understand how diseases develop, generate healthy cells to replace damaged ones, and test new drugs for safety and effectiveness. Potential beneficiaries of stem cell therapies include individuals with conditions like spinal cord injuries, diabetes, Parkinson's disease, and heart disease. Additionally, stem cells could be used to grow new tissue for transplants and regenerative medicine. Ongoing research focuses on programming stem cells into specific types to accurately test new drugs and their effects on targeted cells."
            ],
            "text/plain": [
              "<IPython.core.display.Markdown object>"
            ]
          },
          "execution_count": 31,
          "metadata": {},
          "output_type": "execute_result"
        }
      ],
      "source": [
        "completion = complete(prompt, system_prompt=\"\")\n",
        "IPython.display.Markdown(completion.choices[0].message.content )"
      ]
    },
    {
      "cell_type": "markdown",
      "id": "9952c6df",
      "metadata": {},
      "source": [
        "# Example 2"
      ]
    },
    {
      "cell_type": "code",
      "execution_count": 32,
      "id": "5a95c744",
      "metadata": {},
      "outputs": [],
      "source": [
        "prompt = f\"\"\"Please summarize the following article. \\\n",
        "Use a maximum of 3 sentences:\n",
        "\n",
        "```\n",
        "{stemcells}\n",
        "```\n",
        "\"\"\""
      ]
    },
    {
      "cell_type": "code",
      "execution_count": 36,
      "id": "d32b8ff9",
      "metadata": {},
      "outputs": [
        {
          "data": {
            "text/markdown": [
              "Stem cells are the body's basic building blocks, capable of developing into various specialized cells with specific functions. Research into stem cells aims to increase understanding of disease development, generate healthy cells to replace diseased ones, and test new drugs for safety and effectiveness. Potential beneficiaries of stem cell therapies include individuals with conditions such as spinal cord injuries, diabetes, Parkinson's disease, and heart disease."
            ],
            "text/plain": [
              "<IPython.core.display.Markdown object>"
            ]
          },
          "execution_count": 36,
          "metadata": {},
          "output_type": "execute_result"
        }
      ],
      "source": [
        "completion = complete(prompt, system_prompt=\"\")\n",
        "IPython.display.Markdown(completion.choices[0].message.content) "
      ]
    },
    {
      "cell_type": "markdown",
      "id": "1a53e032",
      "metadata": {},
      "source": [
        "# Example 3"
      ]
    },
    {
      "cell_type": "code",
      "execution_count": 11,
      "metadata": {
        "id": "S0acXBWCxiJL"
      },
      "outputs": [],
      "source": [
        "Text = \"\"\" \n",
        "ปัญญาประดิษฐ์ (AI) ในประเทศไทย: โอกาสและความท้าทาย\n",
        "\n",
        "ในยุคที่เทคโนโลยีก้าวหน้าอย่างรวดเร็ว ปัญญาประดิษฐ์ (Artificial Intelligence หรือ AI) กำลังเข้ามามีบทบาทสำคัญในการขับเคลื่อนเศรษฐกิจและสังคมของประเทศต่างๆ ทั่วโลก รวมถึงประเทศไทย ในช่วงไม่กี่ปีที่ผ่านมา ประเทศไทยได้ตื่นตัวและให้ความสำคัญกับการพัฒนาและประยุกต์ใช้ AI มากขึ้นอย่างเห็นได้ชัด ทั้งในภาครัฐและเอกชน แต่ก็ยังมีความท้าทายหลายประการที่ต้องเผชิญ บทความนี้จะนำเสนอภาพรวมของสถานการณ์ AI ในประเทศไทย ทั้งในแง่ของนโยบาย การพัฒนา การประยุกต์ใช้ ตลอดจนโอกาสและความท้าทายที่เกิดขึ้น\n",
        "\n",
        "1. นโยบายและยุทธศาสตร์ด้าน AI ของประเทศไทย\n",
        "\n",
        "รัฐบาลไทยได้ตระหนักถึงความสำคัญของ AI และได้กำหนดนโยบายและยุทธศาสตร์เพื่อส่งเสริมการพัฒนาและใช้งาน AI ในประเทศ โดยมีการจัดทำ \"ยุทธศาสตร์ปัญญาประดิษฐ์แห่งชาติ\" (National AI Strategy) ซึ่งมีเป้าหมายหลักในการยกระดับขีดความสามารถในการแข่งขันของประเทศ พัฒนาทรัพยากรมนุษย์ และสร้างระบบนิเวศที่เอื้อต่อการพัฒนา AI\n",
        "\n",
        "ยุทธศาสตร์นี้ครอบคลุมหลายมิติ เช่น:\n",
        "- การพัฒนาโครงสร้างพื้นฐานด้านดิจิทัลและข้อมูล\n",
        "- การส่งเสริมการวิจัยและพัฒนา AI\n",
        "- การพัฒนาบุคลากรด้าน AI\n",
        "- การสร้างความร่วมมือระหว่างภาครัฐ เอกชน และสถาบันการศึกษา\n",
        "- การส่งเสริมการใช้ AI ในภาคธุรกิจและอุตสาหกรรม\n",
        "- การสร้างความตระหนักรู้และความเข้าใจเกี่ยวกับ AI ในสังคม\n",
        "\n",
        "นอกจากนี้ ยังมีการจัดตั้งหน่วยงานเฉพาะทางเพื่อขับเคลื่อนการพัฒนา AI ในประเทศ เช่น ศูนย์ความเป็นเลิศด้านชีววิทยาศาสตร์ (TCELS) ที่มีบทบาทในการส่งเสริมการวิจัยและพัฒนา AI ในด้านการแพทย์และสาธารณสุข\n",
        "\n",
        "2. การพัฒนา AI ในประเทศไทย\n",
        "\n",
        "ในช่วงหลายปีที่ผ่านมา ประเทศไทยได้มีความก้าวหน้าในการพัฒนา AI อย่างต่อเนื่อง โดยมีการดำเนินการในหลายด้าน ดังนี้:\n",
        "\n",
        "2.1 การวิจัยและพัฒนา\n",
        "มหาวิทยาลัยและสถาบันวิจัยชั้นนำของไทยได้ทุ่มเทกำลังในการวิจัยและพัฒนาเทคโนโลยี AI โดยมีการจัดตั้งศูนย์วิจัยเฉพาะทาง เช่น ศูนย์เทคโนโลยีปัญญาประดิษฐ์และการเรียนรู้ของเครื่อง (CMKL) ที่จุฬาลงกรณ์มหาวิทยาลัย และศูนย์ความเป็นเลิศด้านชีววิทยาศาสตร์ (TCELS) นอกจากนี้ ยังมีการสร้างความร่วมมือกับสถาบันวิจัยและมหาวิทยาลัยชั้นนำในต่างประเทศเพื่อแลกเปลี่ยนความรู้และประสบการณ์\n",
        "\n",
        "2.2 การพัฒนาบุคลากร\n",
        "การผลิตบุคลากรที่มีความเชี่ยวชาญด้าน AI เป็นหนึ่งในความท้าทายที่สำคัญของประเทศไทย มหาวิทยาลัยหลายแห่งได้เปิดหลักสูตรเฉพาะทางด้าน AI และ Machine Learning ทั้งในระดับปริญญาตรีและบัณฑิตศึกษา นอกจากนี้ ยังมีการจัดอบรมและหลักสูตรระยะสั้นเพื่อพัฒนาทักษะด้าน AI ให้กับบุคลากรในภาคธุรกิจและอุตสาหกรรม\n",
        "\n",
        "2.3 การสร้างระบบนิเวศ AI\n",
        "การสร้างระบบนิเวศที่เอื้อต่อการพัฒนา AI เป็นอีกหนึ่งประเด็นสำคัญ โดยมีการส่งเสริมการลงทุนในธุรกิจ Startup ด้าน AI ผ่านมาตรการสนับสนุนต่างๆ เช่น การให้สิทธิประโยชน์ทางภาษี การจัดตั้งกองทุนร่วมลงทุน และการสร้างพื้นที่ทดลอง (Sandbox) สำหรับนวัตกรรม AI\n",
        "\n",
        "3. การประยุกต์ใช้ AI ในประเทศไทย\n",
        "\n",
        "AI กำลังถูกนำมาประยุกต์ใช้ในหลากหลายภาคส่วนของประเทศไทย ทั้งในภาครัฐและเอกชน โดยมีตัวอย่างที่น่าสนใจดังนี้:\n",
        "\n",
        "3.1 ภาคการเงินและการธนาคาร\n",
        "ธนาคารและสถาบันการเงินในไทยได้นำ AI มาใช้ในการพัฒนาบริการทางการเงิน เช่น:\n",
        "- ระบบ Chatbot สำหรับให้บริการลูกค้า\n",
        "- การวิเคราะห์ความเสี่ยงในการให้สินเชื่อ\n",
        "- ระบบตรวจจับการฉ้อโกงและป้องกันการฟอกเงิน\n",
        "- การวิเคราะห์พฤติกรรมลูกค้าเพื่อนำเสนอผลิตภัณฑ์ที่เหมาะสม\n",
        "\n",
        "3.2 ภาคการเกษตร\n",
        "AI ถูกนำมาใช้ในการพัฒนาเกษตรกรรมอัจฉริยะ (Smart Farming) เช่น:\n",
        "- ระบบวิเคราะห์ภาพถ่ายดาวเทียมเพื่อคาดการณ์ผลผลิตและวางแผนการเพาะปลูก\n",
        "- ระบบควบคุมการให้น้ำและปุ๋ยอัตโนมัติ\n",
        "- การใช้โดรนและหุ่นยนต์ในการสำรวจพื้นที่เกษตรและเก็บเกี่ยวผลผลิต\n",
        "- การวิเคราะห์ข้อมูลสภาพอากาศเพื่อการเตือนภัยและวางแผนการผลิต\n",
        "\n",
        "3.3 ภาคการแพทย์และสาธารณสุข\n",
        "AI กำลังมีบทบาทสำคัญในการยกระดับการให้บริการทางการแพทย์ในประเทศไทย เช่น:\n",
        "- การวิเคราะห์ภาพถ่ายทางการแพทย์เพื่อช่วยในการวินิจฉัยโรค\n",
        "- ระบบสนับสนุนการตัดสินใจทางคลินิก\n",
        "- การพัฒนายาและวัคซีนด้วย AI\n",
        "- การใช้ AI ในการวิเคราะห์ข้อมูลระบาดวิทยาและคาดการณ์การแพร่ระบาดของโรค\n",
        "\n",
        "3.4 ภาคการท่องเที่ยวและบริการ\n",
        "อุตสาหกรรมการท่องเที่ยวซึ่งเป็นหนึ่งในอุตสาหกรรมหลักของไทยก็ได้นำ AI มาประยุกต์ใช้ เช่น:\n",
        "- ระบบแนะนำสถานที่ท่องเที่ยวและร้านอาหารแบบส่วนตัว\n",
        "- การใช้ Chatbot ในการให้ข้อมูลและตอบคำถามนักท่องเที่ยว\n",
        "- ระบบจองและการบริหารจัดการโรงแรมอัจฉริยะ\n",
        "- การวิเคราะห์ข้อมูลพฤติกรรมนักท่องเที่ยวเพื่อการวางแผนการตลาด\n",
        "\n",
        "3.5 ภาคการศึกษา\n",
        "AI กำลังเปลี่ยนแปลงวงการการศึกษาไทย โดยมีการนำมาใช้ในรูปแบบต่างๆ เช่น:\n",
        "- ระบบการเรียนการสอนแบบปรับเหมาะ (Adaptive Learning)\n",
        "- การใช้ AI ในการตรวจข้อสอบและให้คำแนะนำแก่ผู้เรียน\n",
        "- การวิเคราะห์ข้อมูลผู้เรียนเพื่อปรับปรุงหลักสูตรและวิธีการสอน\n",
        "- การใช้ Chatbot เพื่อตอบคำถามและให้คำปรึกษาแก่นักเรียนนักศึกษา\n",
        "\n",
        "3.6 ภาคการขนส่งและโลจิสติกส์\n",
        "AI ถูกนำมาใช้ในการพัฒนาระบบขนส่งอัจฉริยะ (Smart Transportation) และเพิ่มประสิทธิภาพในการจัดการโลจิสติกส์ เช่น:\n",
        "- ระบบบริหารจัดการจราจรอัจฉริยะ\n",
        "- การวางแผนเส้นทางการขนส่งที่มีประสิทธิภาพ\n",
        "- ระบบคาดการณ์ความต้องการสินค้าและการจัดการสต็อก\n",
        "- การใช้หุ่นยนต์และระบบอัตโนมัติในคลังสินค้า\n",
        "\n",
        "4. โอกาสและความท้าทายของ AI ในประเทศไทย\n",
        "\n",
        "การพัฒนาและการใช้งาน AI ในประเทศไทยนำมาซึ่งทั้งโอกาสและความท้าทายหลายประการ:\n",
        "\n",
        "4.1 โอกาส\n",
        "- การเพิ่มขีดความสามารถในการแข่งขันของประเทศ: AI สามารถช่วยเพิ่มประสิทธิภาพและผลิตภาพในภาคธุรกิจและอุตสาหกรรม ซึ่งจะช่วยยกระดับความสามารถในการแข่งขันของประเทศไทยในเวทีโลก\n",
        "- การพัฒนาคุณภาพชีวิต: AI สามารถช่วยพัฒนาคุณภาพชีวิตของประชาชนในหลายด้าน เช่น การรักษาพยาบาล การศึกษา และการบริการสาธารณะ\n",
        "- การสร้างอาชีพและธุรกิจใหม่: การเติบโตของอุตสาหกรรม AI จะนำมาซึ่งโอกาสในการสร้างอาชีพและธุรกิจใหม่ๆ ในประเทศไทย\n",
        "- การแก้ไปไขปัญหาสังคมและสิ่งแวดล้อม: AI สามารถช่วยในการวิเคราะห์และแก้ไขปัญหาที่ซับซ้อน เช่น การจัดการทรัพยากรธรรมชาติ การลดมลพิษ และการแก้ไขปัญหาการจราจร\n",
        "4.2 ความท้าทาย\n",
        "\n",
        "การขาดแคลนบุคลากรที่มีทักษะด้าน AI: ประเทศไทยยังขาดแคลนบุคลากรที่มีความเชี่ยวชาญด้าน AI ทั้งนักวิจัย วิศวกร และผู้เชี่ยวชาญในการประยุกต์ใช้ AI ในภาคธุรกิจ\n",
        "ความเหลื่อมล้ำทางดิจิทัล: การนำ AI มาใช้อาจทำให้เกิดความเหลื่อมล้ำระหว่างผู้ที่สามารถเข้าถึงและใช้ประโยชน์จากเทคโนโลยีกับผู้ที่ไม่สามารถเข้าถึงได้\n",
        "ผลกระทบต่อการจ้างงาน: การนำ AI มาใช้อาจส่งผลให้เกิดการเปลี่ยนแปลงในตลาดแรงงาน โดยอาจทำให้งานบางประเภทหายไปหรือต้องปรับเปลี่ยนรูปแบบ\n",
        "ความปลอดภัยและความเป็นส่วนตัวของข้อมูล: การใช้ AI ต้องอาศัยข้อมูลจำนวนมาก จึงเกิดความกังวลเกี่ยวกับความปลอดภัยและความเป็นส่วนตัวของข้อมูล\n",
        "จริยธรรมและความโปร่งใสของ AI: การพัฒนาและใช้งาน AI ต้องคำนึงถึงประเด็นด้านจริยธรรมและความโปร่งใส เพื่อสร้างความเชื่อมั่นและการยอมรับในสังคม\n",
        "\n",
        "\n",
        "แนวทางการพัฒนา AI ในประเทศไทยในอนาคต\n",
        "\n",
        "เพื่อให้ประเทศไทยสามารถใช้ประโยชน์จาก AI ได้อย่างเต็มที่และรับมือกับความท้าทายที่เกิดขึ้น จำเป็นต้องมีแนวทางการพัฒนาที่ชัดเจนและครอบคลุม ดังนี้:\n",
        "5.1 การพัฒนาบุคลากร\n",
        "\n",
        "เร่งผลิตบุคลากรด้าน AI ทั้งในระดับอาชีวศึกษาและอุดมศึกษา\n",
        "ส่งเสริมการพัฒนาทักษะด้าน AI ให้กับบุคลากรในภาคธุรกิจและอุตสาหกรรม\n",
        "สร้างความร่วมมือกับสถาบันการศึกษาและบริษัทชั้นนำในต่างประเทศเพื่อแลกเปลี่ยนความรู้และประสบการณ์\n",
        "\n",
        "5.2 การส่งเสริมการวิจัยและพัฒนา\n",
        "\n",
        "เพิ่มงบประมาณสนับสนุนการวิจัยและพัฒนาด้าน AI\n",
        "สร้างความร่วมมือระหว่างภาครัฐ เอกชน และสถาบันการศึกษาในการวิจัยและพัฒนา AI\n",
        "ส่งเสริมการนำผลงานวิจัยไปใช้ในเชิงพาณิชย์และการแก้ปัญหาสังคม\n",
        "\n",
        "5.3 การพัฒนาโครงสร้างพื้นฐานและระบบนิเวศ\n",
        "\n",
        "พัฒนาโครงสร้างพื้นฐานด้านดิจิทัลและการสื่อสารให้ครอบคลุมและมีประสิทธิภาพ\n",
        "สร้างศูนย์ข้อมูลและคลังข้อมูลขนาดใหญ่เพื่อรองรับการพัฒนา AI\n",
        "ส่งเสริมการลงทุนในธุรกิจ Startup ด้าน AI และสร้างระบบนิเวศที่เอื้อต่อการพัฒนานวัตกรรม\n",
        "\n",
        "5.4 การส่งเสริมการใช้งาน AI ในภาคธุรกิจและอุตสาหกรรม\n",
        "\n",
        "ให้สิทธิประโยชน์ทางภาษีและการลงทุนสำหรับบริษัทที่นำ AI มาใช้ในการพัฒนาธุรกิจ\n",
        "สร้างความร่วมมือระหว่างภาครัฐและเอกชนในการพัฒนาโซลูชัน AI สำหรับอุตสาหกรรมเป้าหมาย\n",
        "จัดทำมาตรฐานและแนวปฏิบัติในการใช้งาน AI ในภาคธุรกิจและอุตสาหกรรม\n",
        "\n",
        "5.5 การสร้างความตระหนักรู้และการยอมรับในสังคม\n",
        "\n",
        "จัดกิจกรรมให้ความรู้และสร้างความเข้าใจเกี่ยวกับ AI แก่สาธารณชน\n",
        "ส่งเสริมการเรียนรู้เกี่ยวกับ AI ตั้งแต่ระดับการศึกษาขั้นพื้นฐาน\n",
        "สร้างเวทีแลกเปลี่ยนความคิดเห็นและหารือเกี่ยวกับผลกระทบของ AI ต่อสังคมและเศรษฐกิจ\n",
        "\n",
        "5.6 การพัฒนากฎหมายและจริยธรรม\n",
        "\n",
        "ปรับปรุงกฎหมายและระเบียบที่เกี่ยวข้องให้รองรับการพัฒนาและใช้งาน AI\n",
        "จัดทำแนวปฏิบัติด้านจริยธรรมสำหรับการพัฒนาและใช้งาน AI\n",
        "สร้างกลไกการกำกับดูแลการใช้งาน AI ที่มีประสิทธิภาพและโปร่งใส\n",
        "\"\"\""
      ]
    },
    {
      "cell_type": "code",
      "execution_count": 15,
      "metadata": {
        "id": "oaG3igwFxiQU"
      },
      "outputs": [],
      "source": [
        "prompt = f\"\"\"Please summarize the following article. \\\n",
        "Use a maximum of 50 sentences in thailanguage:\n",
        "\n",
        "```\n",
        "{Text}\n",
        "```\n",
        "\"\"\""
      ]
    },
    {
      "cell_type": "code",
      "execution_count": 18,
      "id": "5247f909",
      "metadata": {},
      "outputs": [],
      "source": [
        "import openai\n",
        "\n",
        "\n",
        "# Let's start using FUNCTIONS to simplify our API usage\n",
        "def complete(user_prompt, system_prompt):\n",
        "    completion = openai_client.chat.completions.create(\n",
        "        model=model_name,\n",
        "        messages=[\n",
        "            {\"role\": \"system\", \"content\": \"you are a helpful assistant.\"},\n",
        "            {\"role\": \"user\", \"content\": user_prompt},\n",
        "        ],\n",
        "        temperature=0.5,\n",
        "        max_tokens=4000,\n",
        "    )\n",
        "    return completion"
      ]
    },
    {
      "cell_type": "code",
      "execution_count": 19,
      "metadata": {
        "id": "PzQJleyoxiWi"
      },
      "outputs": [
        {
          "data": {
            "text/markdown": [
              "ปัญญาประดิษฐ์ (AI) กำลังเข้ามามีบทบาทสำคัญในการขับเคลื่อนเศรษฐกิจและสังคมของประเทศต่างๆ ทั่วโลก รวมถึงประเทศไทย รัฐบาลไทยได้ตระหนักถึงความสำคัญของ AI และได้กำหนดนโยบายและยุทธศาสตร์เพื่อส่งเสริมการพัฒนาและใช้งาน AI ในประเทศ โดยมีการจัดทำ \"ยุทธศาสตร์ปัญญาประดิษฐ์แห่งชาติ\" (National AI Strategy) ซึ่งมีเป้าหมายหลักในการยกระดับขีดความสามารถในการแข่งขันของประเทศ พัฒนาทรัพยากรมนุษย์ และสร้างระบบนิเวศที่เอื้อต่อการพัฒนา AI\n",
              "\n",
              "ประเทศไทยได้มีความก้าวหน้าในการพัฒนา AI อย่างต่อเนื่อง โดยมีการดำเนินการในหลายด้าน เช่น การวิจัยและพัฒนา, การพัฒนาบุคลากร, และการสร้างระบบนิเวศ AI นอกจากนี้ ยังมีการนำ AI มาประยุกต์ใช้ในหลากหลายภาคส่วนของประเทศไทย ทั้งในภาครัฐและเอกชน เช่น ภาคการเงินและการธนาคาร, ภาคการเกษตร, ภาคการแพทย์และสาธารณสุข, ภาคการท่องเที่ยวและบริการ, ภาคการศึกษา, และภาคการขนส่งและโลจิสติกส์\n",
              "\n",
              "แต่ยังมีความท้าทายหลายประการที่ต้องเผชิญ เช่น การขาดแคลนบุคลากรที่มีทักษะด้าน AI, ความเหลื่อมล้ำทางดิจิทัล, ผลกระทบต่อการจ้างงาน, ความปลอดภัยและความเป็นส่วนตัวของข้อมูล, และจริยธรรมและความโปร่งใสของ AI\n",
              "\n",
              "เพื่อให้ประเทศไทยสามารถใช้ประโยชน์จาก AI ได้อย่างเต็มที่และรับมือกับความท้าทายที่เกิดขึ้น จำเป็นต้องมีแนวทางการพัฒนาที่ชัดเจนและครอบคลุม เช่น การพัฒนาบุคลากร, การส่งเสริมการวิจัยและพัฒนา, การพัฒนาโครงสร้างพื้นฐานและระบบนิเวศ, การส่งเสริมการใช้งาน AI ในภาคธุรกิจและอุตสาหกรรม, การสร้างความตระหนักรู้และการยอมรับในสังคม, และการพัฒนากฎหมายและจริยธรรม."
            ],
            "text/plain": [
              "<IPython.core.display.Markdown object>"
            ]
          },
          "execution_count": 19,
          "metadata": {},
          "output_type": "execute_result"
        }
      ],
      "source": [
        "completion = complete(prompt, system_prompt=\"\")\n",
        "IPython.display.Markdown(completion.choices[0].message.content) "
      ]
    },
    {
      "cell_type": "markdown",
      "metadata": {
        "id": "PFJd4PmsxjKb"
      },
      "source": [
        "![](https://deeplearningcourses.com/notebooks_v3_pxl?sc=AVRK7SgM9ASkQf5TAqs_wA&n=Summarize)"
      ]
    },
    {
      "cell_type": "markdown",
      "id": "8d7f3934",
      "metadata": {},
      "source": [
        "# Open AI results"
      ]
    },
    {
      "cell_type": "code",
      "execution_count": 21,
      "id": "c6dfafa5",
      "metadata": {},
      "outputs": [],
      "source": [
        "import os\n",
        "from openai import OpenAI\n",
        "\n",
        "openai_client = OpenAI(api_key=os.getenv(\"OPENAI_API_KEY\"))\n",
        "model_name = \"gpt-3.5-turbo\"    "
      ]
    },
    {
      "cell_type": "code",
      "execution_count": 22,
      "id": "2421e4f9",
      "metadata": {},
      "outputs": [
        {
          "data": {
            "text/markdown": [
              "ปัญญาประดิษฐ์ (AI) กำลังมีบทบาทสำคัญในการขับเคลื่อนเศรษฐกิจและสังคมของประเทศไทย โดยรัฐบาลไทยได้กำหนดนโยบายและยุทธศาสตร์เพื่อส่งเสริมการพัฒนาและใช้งาน AI ในประเทศ ยุทธศาสตร์นี้ครอบคลุมหลายมิติ เช่นการพัฒนาโครงสร้างพื้นฐานด้านดิจิทัล การส่งเสริมการวิจัยและพัฒนา AI การพัฒนาบุคลากรด้าน AI และการสร้างระบบนิเวศที่เอื้อต่อการพัฒนา AI ในประเทศไทย นอกจากนี้ มีการพัฒนา AI ในหลายภาคส่วน เช่นในภาคการเงิน การเกษตร การแพทย์ การท่องเที่ยว การศึกษา และการขนส่ง โอกาสที่เกิดขึ้นจากการพัฒนา AI ในประเทศไทยรวมถึงการเพิ่มขีดความสามารถในการแข่งขันของประเทศ การพัฒนาคุณภาพชีวิต การสร้างอาชีพและธุรกิจใหม่ และการแก้ไขปัญหาสังคมและสิ่งแวดล้อม อย่างไรก็ตาม ยังมีความท้าทายเช่นการขาดแคลนบุคลากรที่มีทักษะด้าน AI ความเหลื่อมล้ำทางดิจิทัล ผลกระทบต่อการจ้างงาน ความปลอดภัยและความเป็นส่วนตัวของข้อมูล และจริยธรรมและความโปร่งใสของ AI ดังนั้น การพัฒนา AI ในประเทศไทยต้องมีแนวทางการพัฒนาที่ชัดเจนและครอบคลุม เช่นการเร่งผลิตบุคลากรด้าน AI การส่งเสริมการวิจัยและพัฒนา การพัฒนาโครงสร้างพื้นฐานและระบบนิเวศ การส่งเสริมการใช้งาน AI ในภาคธุรกิจและอุตสาหกรรม การสร้างความตระหนักรู้และการยอมรับในสังคม และการพัฒนากฎหมายและจริยธรรมในการใช้งาน AI ในประเทศไทย "
            ],
            "text/plain": [
              "<IPython.core.display.Markdown object>"
            ]
          },
          "execution_count": 22,
          "metadata": {},
          "output_type": "execute_result"
        }
      ],
      "source": [
        "\n",
        "# Let's start using FUNCTIONS to simplify our API usage\n",
        "def complete(user_prompt, system_prompt):\n",
        "    completion = openai_client.chat.completions.create(\n",
        "        model=model_name,\n",
        "        messages=[\n",
        "            {\"role\": \"system\", \"content\": \"you are a helpful assistant.\"},\n",
        "            {\"role\": \"user\", \"content\": user_prompt},\n",
        "        ],\n",
        "        temperature=0.5,\n",
        "        max_tokens=4000,\n",
        "    )\n",
        "    return completion\n",
        "\n",
        "completion = complete(prompt, system_prompt=\"\")\n",
        "IPython.display.Markdown(completion.choices[0].message.content) "
      ]
    },
    {
      "cell_type": "code",
      "execution_count": 23,
      "id": "509ea74d",
      "metadata": {},
      "outputs": [
        {
          "data": {
            "text/markdown": [
              "ปัญญาประดิษฐ์ (AI) ในประเทศไทย: โอกาสและความท้าทาย\n",
              "\n",
              "ในยุคที่เทคโนโลยีก้าวหน้าอย่างรวดเร็ว AI กำลังมีบทบาทสำคัญในการขับเคลื่อนเศรษฐกิจและสังคมของประเทศต่างๆ รวมถึงประเทศไทย รัฐบาลไทยได้ตระหนักถึงความสำคัญของ AI และได้กำหนดยุทธศาสตร์และนโยบายเพื่อส่งเสริมการพัฒนาและใช้งาน AI ในประเทศ เช่น ยุทธศาสตร์ปัญญาประดิษฐ์แห่งชาติ ซึ่งมีเป้าหมายหลักในการยกระดับขีดความสามารถในการแข่งขันของประเทศ พัฒนาทรัพยากรมนุษย์ และสร้างระบบนิเวศที่เอื้อต่อการพัฒนา AI\n",
              "\n",
              "ประเทศไทยได้มีความก้าวหน้าในการพัฒนา AI อย่างต่อเนื่อง โดยมีการวิจัยและพัฒนาในมหาวิทยาลัยและสถาบันวิจัยชั้นนำ การพัฒนาบุคลากรที่มีความเชี่ยวชาญด้าน AI และการสร้างระบบนิเวศที่เอื้อต่อการพัฒนา AI เช่น การส่งเสริมการลงทุนในธุรกิจ Startup ด้าน AI\n",
              "\n",
              "AI ถูกนำมาประยุกต์ใช้ในหลากหลายภาคส่วนของประเทศไทย เช่น ภาคการเงินและการธนาคาร ภาคการเกษตร ภาคการแพทย์และสาธารณสุข ภาคการท่องเที่ยวและบริการ ภาคการศึกษา และภาคการขนส่งและโลจิสติกส์\n",
              "\n",
              "การพัฒนาและการใช้งาน AI ในประเทศไทยนำมาซึ่งโอกาสหลายประการ เช่น การเพิ่มขีดความสามารถในการแข่งขันของประเทศ การพัฒนาคุณภาพชีวิต การสร้างอาชีพและธุรกิจใหม่ และการแก้ไขปัญหาสังคมและสิ่งแวดล้อม อย่างไรก็ตาม ยังมีความท้าทายหลายประการ เช่น การขาดแคลนบุคลากรที่มีทักษะด้าน AI ความเหลื่อมล้ำทางดิจิทัล ผลกระทบต่อการจ้างงาน ความปลอดภัยและความเป็นส่วนตัวของข้อมูล และจริยธรรมและความโปร่งใสของ AI\n",
              "\n",
              "เพื่อให้ประเทศไทยสามารถใช้ประโยชน์จาก AI ได้อย่างเต็มที่และรับมือกับความท้าทายที่เกิดขึ้น จำเป็นต้องมีแนวทางการพัฒนาที่ชัดเจนและครอบคลุม เช่น การพัฒนาบุคลากร การส่งเสริมการวิจัยและพัฒนา การพัฒนาโครงสร้างพื้นฐานและระบบนิเวศ การส่งเสริมการใช้งาน AI ในภาคธุรกิจและอุตสาหกรรม การสร้างความตระหนักรู้และการยอมรับในสังคม และการพัฒนากฎหมายและจริยธรรม"
            ],
            "text/plain": [
              "<IPython.core.display.Markdown object>"
            ]
          },
          "execution_count": 23,
          "metadata": {},
          "output_type": "execute_result"
        }
      ],
      "source": [
        "import os\n",
        "from openai import OpenAI\n",
        "\n",
        "openai_client = OpenAI(api_key=os.getenv(\"OPENAI_API_KEY\"))\n",
        "model_name = \"gpt-4o\"    \n",
        "\n",
        "\n",
        "# Let's start using FUNCTIONS to simplify our API usage\n",
        "def complete(user_prompt, system_prompt):\n",
        "    completion = openai_client.chat.completions.create(\n",
        "        model=model_name,\n",
        "        messages=[\n",
        "            {\"role\": \"system\", \"content\": \"you are a helpful assistant.\"},\n",
        "            {\"role\": \"user\", \"content\": user_prompt},\n",
        "        ],\n",
        "        temperature=0.5,\n",
        "        max_tokens=4000,\n",
        "    )\n",
        "    return completion\n",
        "\n",
        "completion = complete(prompt, system_prompt=\"\")\n",
        "IPython.display.Markdown(completion.choices[0].message.content) "
      ]
    },
    {
      "cell_type": "code",
      "execution_count": null,
      "id": "9664b029",
      "metadata": {},
      "outputs": [],
      "source": []
    }
  ],
  "metadata": {
    "kernelspec": {
      "display_name": "Python 3 (ipykernel)",
      "language": "python",
      "name": "python3"
    },
    "language_info": {
      "codemirror_mode": {
        "name": "ipython",
        "version": 3
      },
      "file_extension": ".py",
      "mimetype": "text/x-python",
      "name": "python",
      "nbconvert_exporter": "python",
      "pygments_lexer": "ipython3",
      "version": "3.10.13"
    },
    "sc": "AVRK7SgM9ASkQf5TAqs_wA"
  },
  "nbformat": 4,
  "nbformat_minor": 5
}
